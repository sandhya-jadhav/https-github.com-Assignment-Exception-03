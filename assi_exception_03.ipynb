{
 "cells": [
  {
   "cell_type": "markdown",
   "id": "931969d7-3e66-4902-b47b-ef698be12ffd",
   "metadata": {},
   "source": [
    "###  what is multithreading in python? why is it used? Name the module used to handle threads in python"
   ]
  },
  {
   "cell_type": "markdown",
   "id": "fc46f35a-0f27-4524-b188-3c016ff2423c",
   "metadata": {},
   "source": [
    "#### Multithreading is a programming technique in Python that allows multiple threads (smaller units of a process) to run concurrently within the same process. Each thread runs independently, enabling the program to perform multiple tasks at the same time."
   ]
  },
  {
   "cell_type": "markdown",
   "id": "6708e5d2-ef87-4f5c-a8f4-5cd2414a7969",
   "metadata": {},
   "source": [
    "#### Improved Performance: Multithreading can enhance the performance of programs that involve tasks that can be executed in parallel, such as I/O-bound operations like file reading/writing, network requests, or waiting for user input.\n",
    "\n",
    "#### Responsive Applications: In GUI applications, multithreading helps keep the interface responsive while performing background tasks like loading data or processing.\n",
    "\n",
    "#### Resource Sharing: Threads share the same memory space, making it easier to share data between threads without needing complex mechanisms for communication.\n",
    "\n"
   ]
  },
  {
   "cell_type": "markdown",
   "id": "49e3bd1d-1426-4c6c-b45f-77ea1991b51d",
   "metadata": {},
   "source": [
    "#### threading Module: Python provides the threading module to handle threads. It allows you to create, start, and manage threads in a Python program.\n"
   ]
  },
  {
   "cell_type": "markdown",
   "id": "7174facb-4c37-4fa4-b476-ac454bd32363",
   "metadata": {},
   "source": [
    "### Q.2"
   ]
  },
  {
   "cell_type": "markdown",
   "id": "09ddf182-5e7a-47d3-9d92-379194eb314f",
   "metadata": {},
   "source": [
    "#### The threading module in Python is used to create and manage threads, allowing for concurrent execution of tasks within a program. This is particularly useful for:\n",
    "\n",
    "#### Running I/O-bound tasks concurrently: Like file I/O, network requests, etc.\n",
    "#### Maintaining responsive GUIs: By running background tasks in separate threads.\n",
    "#### Parallelizing tasks: To improve efficiency and reduce runtime, especially in tasks that are independent of each other.\n"
   ]
  },
  {
   "cell_type": "markdown",
   "id": "f2bc7d65-e7de-473e-8a12-8e4dd911b1c5",
   "metadata": {},
   "source": [
    "#### activeCount()\n",
    "\n",
    "#### Purpose: Returns the number of thread objects that are currently alive.\n",
    "#### Use Case: To monitor how many threads are active at any given point in time.\n"
   ]
  },
  {
   "cell_type": "markdown",
   "id": "e34f63a7-e133-48ff-98c0-b97275100a57",
   "metadata": {},
   "source": [
    "#### currentThread()\n",
    "\n",
    "#### Purpose: Returns the current Thread object corresponding to the caller's thread of control.\n",
    "#### Use Case: To identify or log which thread is currently executing.\n"
   ]
  },
  {
   "cell_type": "markdown",
   "id": "2f2cc854-4ab8-43df-be2c-a475aa520249",
   "metadata": {},
   "source": [
    "#### enumerate()\n",
    "\n",
    "#### Purpose: Returns a list of all Thread objects currently active.\n",
    "#### Use Case: To get a snapshot of all active threads, useful for debugging or monitoring purposes.\n"
   ]
  },
  {
   "cell_type": "markdown",
   "id": "06d5f167-4914-4b20-8e6d-b3ae59aef1c0",
   "metadata": {},
   "source": [
    "### Q. 3"
   ]
  },
  {
   "cell_type": "markdown",
   "id": "f0e52680-6beb-4518-8f67-3d10f56262af",
   "metadata": {},
   "source": [
    "#### run()\n",
    "\n",
    "#### Purpose: The run() method is the entry point for a thread's activity. When you define a new thread class by inheriting from threading.Thread, you override the run() method with the code that you want to execute in the thread.\n",
    "#### Use Case: Typically, you don't call run() directly; instead, you call start(), which in turn calls run() internally.\n"
   ]
  },
  {
   "cell_type": "markdown",
   "id": "0960c7cf-115c-4778-93ec-e9e30fc3ca58",
   "metadata": {},
   "source": [
    "#### start()\n",
    "\n",
    "#### Purpose: The start() method begins the thread's activity. It arranges for the thread to run run() method in a separate thread of control.\n",
    "#### Use Case: Use start() to initiate the execution of a thread. Once start() is called, the thread becomes alive, and the code inside run() will be executed in parallel with other threads.\n"
   ]
  },
  {
   "cell_type": "markdown",
   "id": "1dd760e1-bbd2-48e0-8852-e1b9d7a63166",
   "metadata": {},
   "source": [
    "#### join()\n",
    "\n",
    "#### Purpose: The join() method blocks the calling thread until the thread whose join() method is called terminates (completes its execution).\n",
    "#### Use Case: Use join() when you want to ensure that a thread has finished executing before the program continues. This is especially useful when you need to wait for multiple threads to finish before proceeding.\n"
   ]
  },
  {
   "cell_type": "markdown",
   "id": "61f27dc2-ba75-4ef5-84ec-d580ba14c299",
   "metadata": {},
   "source": [
    "#### isAlive()\n",
    "\n",
    "#### Purpose: The isAlive() method (or is_alive() in Python 3) checks whether a thread is still running or not. It returns True if the thread is currently executing, otherwise False.\n",
    "#### Use Case: Use isAlive() to check the status of a thread, which can be helpful in monitoring the progress of multiple threads or deciding when to take certain actions.\n"
   ]
  },
  {
   "cell_type": "markdown",
   "id": "c8019166-93ee-4979-a115-c75327aad33b",
   "metadata": {},
   "source": [
    "### Q. 4"
   ]
  },
  {
   "cell_type": "code",
   "execution_count": 5,
   "id": "006e6a68-6e86-44dc-843c-f46a8020b899",
   "metadata": {},
   "outputs": [
    {
     "name": "stdout",
     "output_type": "stream",
     "text": [
      "Squares: [1, 4, 9, 16, 25]\n",
      "Cubes: [1, 8, 27, 64, 125]\n",
      "Both threads have completed execution.\n"
     ]
    }
   ],
   "source": [
    "import threading\n",
    "\n",
    "def print_squares(numbers):\n",
    "    squares = [n**2 for n in numbers]\n",
    "    print(\"Squares:\", squares)\n",
    "\n",
    "def print_cubes(numbers):\n",
    "    cubes = [n**3 for n in numbers]\n",
    "    print(\"Cubes:\", cubes)\n",
    "\n",
    "numbers = [1, 2, 3, 4, 5]\n",
    "\n",
    "thread1 = threading.Thread(target=print_squares, args=(numbers,))\n",
    "thread2 = threading.Thread(target=print_cubes, args=(numbers,))\n",
    "\n",
    "thread1.start()\n",
    "thread2.start()\n",
    "\n",
    "thread1.join()\n",
    "thread2.join()\n",
    "\n",
    "print(\"Both threads have completed execution.\")\n"
   ]
  },
  {
   "cell_type": "markdown",
   "id": "683060f2-b8c9-43ad-9d71-3fbda8d366ea",
   "metadata": {},
   "source": [
    "### 5. State advantages and disadvantages of multithreading"
   ]
  },
  {
   "cell_type": "markdown",
   "id": "8dfab1a3-efeb-45fb-9354-7a3b7ed5104c",
   "metadata": {},
   "source": [
    "#### Improved Performance: Executes multiple tasks concurrently, enhancing performance, especially in I/O-bound operations.\n",
    "#### Responsiveness: Keeps applications, especially GUIs, responsive while performing background tasks.\n",
    "#### Resource Sharing: Threads share the same memory space, simplifying data sharing.\n",
    "#### Scalability: Utilizes multiple CPU cores for parallel processing.\n",
    "#### Simplicity: Easier communication between threads in the same process.\n",
    "#### Disadvantages of Multithreading\n",
    "#### Complexity: Managing shared resources and debugging can be challenging.\n",
    "#### Overhead: Context switching and memory usage can impact performance.\n",
    "#### GIL in Python: Limits CPU-bound task performance due to the Global Interpreter Lock.\n",
    "#### Concurrency Issues: Risks of deadlocks and starvation.\n",
    "#### Increased Complexity: More difficult design and testing compared to single-threaded applications."
   ]
  },
  {
   "cell_type": "markdown",
   "id": "1a714bdc-fcf3-4f59-8d02-063906f72af8",
   "metadata": {},
   "source": [
    "### 6. Explain deadlocks and race conditions."
   ]
  },
  {
   "cell_type": "markdown",
   "id": "216c1835-61d3-4da0-8bb1-dfe8d3edb80f",
   "metadata": {},
   "source": [
    "#### Deadlocks\n",
    "#### Definition: Threads or processes are indefinitely blocked, each waiting for the other to release resources.\n",
    "#### Example: Thread 1 waits for Resource B while holding Resource A, and Thread 2 waits for Resource A while holding Resource B.\n",
    "#### Race Conditions\n",
    "#### Definition: Occur when multiple threads access and modify shared data concurrently, leading to unpredictable or incorrect results.\n",
    "#### Example: Two threads withdrawing money from the same bank account simultaneously might lead to an incorrect balance.\n",
    "#### Avoidance\n",
    "#### Deadlocks: Use resource ordering, timeouts, or deadlock detection.\n",
    "#### Race Conditions: Use mutexes/locks, atomic operations, or proper synchronization."
   ]
  },
  {
   "cell_type": "code",
   "execution_count": null,
   "id": "bfa8297c-edbf-450c-b210-c0404f072ad8",
   "metadata": {},
   "outputs": [],
   "source": []
  }
 ],
 "metadata": {
  "kernelspec": {
   "display_name": "Python 3 (ipykernel)",
   "language": "python",
   "name": "python3"
  },
  "language_info": {
   "codemirror_mode": {
    "name": "ipython",
    "version": 3
   },
   "file_extension": ".py",
   "mimetype": "text/x-python",
   "name": "python",
   "nbconvert_exporter": "python",
   "pygments_lexer": "ipython3",
   "version": "3.10.8"
  }
 },
 "nbformat": 4,
 "nbformat_minor": 5
}
